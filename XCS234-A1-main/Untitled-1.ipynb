{
 "cells": [
  {
   "cell_type": "markdown",
   "metadata": {},
   "source": [
    "### 1-(d) [5 points (Written)]\n",
    "Consider a general MDP < S , A, P , R, $\\gamma$ >, and in this case assume that the horizon H is infinite (so there is no termination). \n",
    "\n",
    "A policy $\\pi$ in this MDP induces a value function $V^{\\pi}$ (lets refer to this as $V^{\\pi}_{old}$).\n",
    "\n",
    "Now suppose we have the same MDP where all rewards have a constant c added to them and then have been scaled by a (i.e. $r_{new} = a * (c + r_{old})$ ).\n",
    "\n",
    "Can you come up with an expression for the new value function $V^{\\pi}_{new}$ induced by \\pi in this second MDP in terms of $V^{\\pi}_{old}$, $c$, $a$, and $\\gamma$?$\n",
    "\n",
    "You can start this question with the expression for the original value function and consider how this expression would change for scaled rewards:\n",
    "\n",
    "$V^{\\pi}_{old} (s) = \\mathbb{E}_{\\pi} [G_{old,t} | x_t = s]$  \n",
    "Where the return is defined as the discounted sum of rewards :  \n",
    "$G_{old,t} = \\sum_{k=0}^{k=\\infty} \\gamma^{k} * r_{t+k+1}$  \n",
    "\n",
    "Now consider how we would rewrite the following expression in terms of the original.  \n",
    "$ V^{\\pi}_{new} (s) = \\mathbb{E}_{\\pi} [G_{new,t}|x_t  =s]$  \n",
    "Where $G_{new,t}$ is comprised of the rewards which have been translated and scaled."
   ]
  },
  {
   "cell_type": "markdown",
   "metadata": {},
   "source": [
    "### Response\n",
    "\n",
    "$V^{\\pi}_{old} (s) = \\mathbb{E}_{\\pi} [\\sum_{t=0}^{t=\\infty}\\gamma^{t}r_t | s_0 = s]$  \n",
    "\n",
    "$V^{\\pi}_{new} (s) = \\mathbb{E}_{\\pi} [\\sum_{t=0}^{t=\\infty}\\gamma^{t} a(r_t+c) | s_0 = s]$   \n",
    "$V^{\\pi}_{new} (s) = \\mathbb{E}_{\\pi} [\\sum_{t=0}^{t=\\infty}\\gamma^{t} a r_t | s_0 = s] + \\mathbb{E}_{\\pi} [\\sum_{t=0}^{t=\\infty}\\gamma^{t} a c | s_0 = s]$   \n",
    "\n",
    "$V^{\\pi}_{new} (s) = a\\mathbb{E}_{\\pi} [\\sum_{t=0}^{t=\\infty}\\gamma^{t}r_t | s_0 = s] + ac\\mathbb{E}_{\\pi} [\\sum_{t=0}^{t=\\infty}\\gamma^{t} | s_0 = s]$ \n",
    "\n",
    "$V^{\\pi}_{new} (s) = a\\mathbb{E}_{\\pi} [\\sum_{t=0}^{t=\\infty}\\gamma^{t}r_t | s_0 = s] + ac\\mathbb{E}_{\\pi} [ \\frac{1}{1-\\gamma} | s_0 = s]$   \n",
    "\n",
    "$V^{\\pi}_{new} (s) = a\\mathbb{E}_{\\pi} [\\sum_{t=0}^{t=\\infty}\\gamma^{t}r_t | s_0 = s] + ac \\frac{1}{1-\\gamma}$\n",
    "\n",
    "$V^{\\pi}_{new} (s) = aV^{\\pi}_{old} (s) + ac \\frac{1}{1-\\gamma}$"
   ]
  }
 ],
 "metadata": {
  "language_info": {
   "name": "python"
  }
 },
 "nbformat": 4,
 "nbformat_minor": 2
}

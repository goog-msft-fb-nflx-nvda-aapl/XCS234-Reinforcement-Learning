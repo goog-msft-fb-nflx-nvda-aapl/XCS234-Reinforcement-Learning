{
 "cells": [
  {
   "cell_type": "code",
   "execution_count": 7,
   "metadata": {},
   "outputs": [],
   "source": [
    "import numpy as np\n",
    "N_ROW = 7\n",
    "N_COL = 5\n",
    "flappyworld1 = np.zeros((N_ROW,N_COL))\n",
    "label = np.array(\n",
    "    [\n",
    "        [\"terminal\",\"terminal\",\"terminal\",\"terminal\",\"terminal\"],\n",
    "        [\"unshaded\",\"unshaded\",\"terminal\",\"unshaded\",\"unshaded\"],\n",
    "        [\"unshaded\",\"unshaded\",\"terminal\",\"unshaded\",\"unshaded\"],\n",
    "        [\"unshaded\",\"unshaded\",\"unshaded\",\"unshaded\",\"goal\"],\n",
    "        [\"unshaded\",\"terminal\",\"unshaded\",\"unshaded\",\"unshaded\"],\n",
    "        [\"unshaded\",\"terminal\",\"unshaded\",\"unshaded\",\"unshaded\"],\n",
    "        [\"terminal\",\"terminal\",\"terminal\",\"terminal\",\"terminal\"]\n",
    "    ]\n",
    ")"
   ]
  },
  {
   "cell_type": "code",
   "execution_count": 8,
   "metadata": {},
   "outputs": [],
   "source": [
    "def state_to_coordinates( state ):\n",
    "    state -= 1\n",
    "    column = int( state / N_ROW)\n",
    "    row = state - column * N_ROW\n",
    "    return row, column"
   ]
  },
  {
   "cell_type": "markdown",
   "metadata": {},
   "source": [
    "### 1. set value for RED terminal states"
   ]
  },
  {
   "cell_type": "code",
   "execution_count": 9,
   "metadata": {},
   "outputs": [
    {
     "data": {
      "text/plain": [
       "array([[-5., -5., -5., -5., -5.],\n",
       "       [ 0.,  0., -5.,  0.,  0.],\n",
       "       [ 0.,  0., -5.,  0.,  0.],\n",
       "       [ 0.,  0.,  0.,  0.,  0.],\n",
       "       [ 0., -5.,  0.,  0.,  0.],\n",
       "       [ 0., -5.,  0.,  0.,  0.],\n",
       "       [-5., -5., -5., -5., -5.]])"
      ]
     },
     "execution_count": 9,
     "metadata": {},
     "output_type": "execute_result"
    }
   ],
   "source": [
    "for state in [1,8,15,22,29,16,17,12,13,7,14,21,28,35]:\n",
    "    row, col = state_to_coordinates(state)\n",
    "    flappyworld1[row][col] = -5\n",
    "flappyworld1"
   ]
  },
  {
   "cell_type": "markdown",
   "metadata": {},
   "source": [
    "### 2. set value for the GREEN terminal state"
   ]
  },
  {
   "cell_type": "code",
   "execution_count": 10,
   "metadata": {},
   "outputs": [
    {
     "data": {
      "text/plain": [
       "array([[-5., -5., -5., -5., -5.],\n",
       "       [ 0.,  0., -5.,  0.,  0.],\n",
       "       [ 0.,  0., -5.,  0.,  0.],\n",
       "       [ 0.,  0.,  0.,  0.,  5.],\n",
       "       [ 0., -5.,  0.,  0.,  0.],\n",
       "       [ 0., -5.,  0.,  0.,  0.],\n",
       "       [-5., -5., -5., -5., -5.]])"
      ]
     },
     "execution_count": 10,
     "metadata": {},
     "output_type": "execute_result"
    }
   ],
   "source": [
    "row, col = state_to_coordinates(32)\n",
    "flappyworld1[row][col] = 5\n",
    "flappyworld1"
   ]
  },
  {
   "cell_type": "code",
   "execution_count": null,
   "metadata": {},
   "outputs": [],
   "source": []
  }
 ],
 "metadata": {
  "kernelspec": {
   "display_name": "Python 3",
   "language": "python",
   "name": "python3"
  },
  "language_info": {
   "codemirror_mode": {
    "name": "ipython",
    "version": 3
   },
   "file_extension": ".py",
   "mimetype": "text/x-python",
   "name": "python",
   "nbconvert_exporter": "python",
   "pygments_lexer": "ipython3",
   "version": "3.11.6"
  }
 },
 "nbformat": 4,
 "nbformat_minor": 2
}
